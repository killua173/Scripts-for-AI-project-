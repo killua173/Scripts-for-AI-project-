{
 "cells": [
  {
   "cell_type": "code",
   "execution_count": 3,
   "id": "f70e3702-ccdf-497e-bf87-392c3cc344fb",
   "metadata": {},
   "outputs": [
    {
     "name": "stdout",
     "output_type": "stream",
     "text": [
      "Label update complete.\n"
     ]
    }
   ],
   "source": [
    "import os\n",
    "import json\n",
    "\n",
    "# Define the folder path containing JSON files\n",
    "folder_path = r\"C:\\Users\\hamza\\OneDrive\\Desktop\\mature and immature\\COCO Format\"\n",
    "\n",
    "# Iterate over each file in the folder\n",
    "for filename in os.listdir(folder_path):\n",
    "    if filename.endswith(\".json\"):\n",
    "        file_path = os.path.join(folder_path, filename)\n",
    "\n",
    "        # Read the JSON file\n",
    "        with open(file_path, \"r\") as file:\n",
    "            data = json.load(file)\n",
    "\n",
    "        # Update labels\n",
    "        for annotation in data:\n",
    "            for annotation_data in annotation[\"annotations\"]:\n",
    "                if annotation_data[\"label\"] == \"0\":\n",
    "                    annotation_data[\"label\"] = \"Immature\"\n",
    "                elif annotation_data[\"label\"] == \"1\":\n",
    "                    annotation_data[\"label\"] = \"Mature\"\n",
    "\n",
    "        # Write the updated JSON back to the file\n",
    "        with open(file_path, \"w\") as file:\n",
    "            json.dump(data, file, indent=2)\n",
    "\n",
    "print(\"Label update complete.\")\n"
   ]
  },
  {
   "cell_type": "code",
   "execution_count": 4,
   "id": "388e042e-c7d8-43da-8131-b61ab6482bb2",
   "metadata": {},
   "outputs": [
    {
     "name": "stdout",
     "output_type": "stream",
     "text": [
      "Label update complete.\n"
     ]
    }
   ],
   "source": [
    "import os\n",
    "import xml.etree.ElementTree as ET\n",
    "\n",
    "def update_labels(xml_file_path):\n",
    "    tree = ET.parse(xml_file_path)\n",
    "    root = tree.getroot()\n",
    "\n",
    "    for obj in root.findall('.//object'):\n",
    "        label = obj.find('name').text\n",
    "        if label == '0':\n",
    "            obj.find('name').text = 'Immature'\n",
    "        elif label == '1':\n",
    "            obj.find('name').text = 'Mature'\n",
    "\n",
    "    tree.write(xml_file_path)\n",
    "\n",
    "# Define the folder path containing XML files\n",
    "folder_path = r\"C:\\Users\\hamza\\OneDrive\\Desktop\\mature and immature\\Pascal VOC Format\"\n",
    "\n",
    "# Iterate over each file in the folder\n",
    "for filename in os.listdir(folder_path):\n",
    "    if filename.endswith(\".xml\"):\n",
    "        xml_file_path = os.path.join(folder_path, filename)\n",
    "        update_labels(xml_file_path)\n",
    "\n",
    "print(\"Label update complete.\")\n"
   ]
  },
  {
   "cell_type": "code",
   "execution_count": null,
   "id": "1281d385-9313-4bad-8f06-6c75b12d5f26",
   "metadata": {},
   "outputs": [],
   "source": []
  }
 ],
 "metadata": {
  "kernelspec": {
   "display_name": "Python 3 (ipykernel)",
   "language": "python",
   "name": "python3"
  },
  "language_info": {
   "codemirror_mode": {
    "name": "ipython",
    "version": 3
   },
   "file_extension": ".py",
   "mimetype": "text/x-python",
   "name": "python",
   "nbconvert_exporter": "python",
   "pygments_lexer": "ipython3",
   "version": "3.8.0"
  }
 },
 "nbformat": 4,
 "nbformat_minor": 5
}
