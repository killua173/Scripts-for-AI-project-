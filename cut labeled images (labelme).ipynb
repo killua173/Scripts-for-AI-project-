{
 "cells": [
  {
   "cell_type": "code",
   "execution_count": 11,
   "id": "24f4dcb2-9032-4199-adab-5e3af29cc1c8",
   "metadata": {},
   "outputs": [],
   "source": [
    "import json\n",
    "import cv2\n",
    "import os\n",
    "import requests\n",
    "from urllib.parse import urlparse\n",
    "from urllib.parse import urljoin\n",
    "import os\n",
    "import shutil\n",
    "import numpy as np\n"
   ]
  },
  {
   "cell_type": "code",
   "execution_count": 12,
   "id": "14c1be18-4983-472e-8bbb-6b4773d91576",
   "metadata": {},
   "outputs": [],
   "source": [
    "def load_labelme_json(json_file_path):\n",
    "    with open(json_file_path, 'r') as json_file:\n",
    "        data = json.load(json_file)\n",
    "    return data"
   ]
  },
  {
   "cell_type": "code",
   "execution_count": 13,
   "id": "5d803de8-7989-4856-80b4-a8cd50e2c45b",
   "metadata": {},
   "outputs": [],
   "source": [
    "def download_image(image_url, json_file_path, output_directory):\n",
    "    # Ensure the output directory exists\n",
    "    os.makedirs(output_directory, exist_ok=True)\n",
    "\n",
    "    # Extract the image filename from the URL\n",
    "    image_filename = os.path.basename(image_url)\n",
    "\n",
    "    # Construct the full path to the image based on the JSON file's path\n",
    "    json_directory = os.path.dirname(json_file_path)\n",
    "    image_path = os.path.join(json_directory, os.pardir, image_filename)\n",
    "    full_image_path = os.path.abspath(image_path)\n",
    "\n",
    "    # Ensure that the image file exists and is not empty\n",
    "    if os.path.exists(full_image_path) and os.path.getsize(full_image_path) > 0:\n",
    "        # Check if the image already exists in the output directory\n",
    "        destination_path = os.path.join(output_directory, image_filename)\n",
    "        if not os.path.exists(destination_path):\n",
    "            shutil.copy(full_image_path, destination_path)\n",
    "        return destination_path\n",
    "    else:\n",
    "        print(f\"Image file '{full_image_path}' is missing or empty.\")\n",
    "        return None"
   ]
  },
  {
   "cell_type": "code",
   "execution_count": 14,
   "id": "32a1923f-ba36-47f2-a563-36fa3e6d9079",
   "metadata": {},
   "outputs": [],
   "source": [
    "def extract_and_save_labeled_regions(json_data, image, cut_output_directory):\n",
    "    shapes = json_data['shapes']\n",
    "\n",
    "    os.makedirs(cut_output_directory, exist_ok=True)\n",
    "\n",
    "    image_name = os.path.splitext(os.path.basename(json_data['imagePath']))[0]\n",
    "\n",
    "    # Create a counter for the cut region image filenames\n",
    "    cut_filename_counter = 0\n",
    "\n",
    "    for shape in shapes:\n",
    "        label = shape['label']\n",
    "        points = shape['points']\n",
    "\n",
    "        print(f\"Label: {label}\")\n",
    "        print(f\"Points: {points}\")\n",
    "\n",
    "        # Convert the points to a NumPy array\n",
    "        points = np.array(points, dtype=np.int32)\n",
    "\n",
    "        if len(points) > 0:\n",
    "            x, y, w, h = cv2.boundingRect(points)\n",
    "            region = image[y:y+h, x:x+w]\n",
    "\n",
    "            # Generate a unique filename for the cut region image\n",
    "            cut_filename = os.path.join(cut_output_directory, f'{image_name}_{cut_filename_counter + 1}.jpg')\n",
    "\n",
    "            print(f\"Cut filename: {cut_filename}\")\n",
    "            try:   \n",
    "                cv2.imwrite(cut_filename, region)\n",
    "            except Exception as e:\n",
    "                print(f\"An error occurred while saving the cut region: {e}\")\n",
    "\n",
    "\n",
    "          \n",
    "            \n",
    "            # Save the cut region as a separate image in the cut output directory\n",
    "            \n",
    "\n",
    "            # Increment the cut region image filename counter\n",
    "            cut_filename_counter += 1"
   ]
  },
  {
   "cell_type": "code",
   "execution_count": 16,
   "id": "bb942037-ccf7-4c61-a34e-af1d0a1a1ebb",
   "metadata": {},
   "outputs": [
    {
     "ename": "TypeError",
     "evalue": "list indices must be integers or slices, not str",
     "output_type": "error",
     "traceback": [
      "\u001b[1;31m---------------------------------------------------------------------------\u001b[0m",
      "\u001b[1;31mTypeError\u001b[0m                                 Traceback (most recent call last)",
      "Cell \u001b[1;32mIn[16], line 10\u001b[0m\n\u001b[0;32m      8\u001b[0m json_file_path \u001b[38;5;241m=\u001b[39m os\u001b[38;5;241m.\u001b[39mpath\u001b[38;5;241m.\u001b[39mjoin(json_directory, filename)\n\u001b[0;32m      9\u001b[0m json_data \u001b[38;5;241m=\u001b[39m load_labelme_json(json_file_path)\n\u001b[1;32m---> 10\u001b[0m image_url \u001b[38;5;241m=\u001b[39m \u001b[43mjson_data\u001b[49m\u001b[43m[\u001b[49m\u001b[38;5;124;43m'\u001b[39;49m\u001b[38;5;124;43mimagePath\u001b[39;49m\u001b[38;5;124;43m'\u001b[39;49m\u001b[43m]\u001b[49m\n\u001b[0;32m     11\u001b[0m image_path \u001b[38;5;241m=\u001b[39m download_image(image_url, json_file_path, labeled_output_directory)\n\u001b[0;32m     13\u001b[0m \u001b[38;5;28;01mif\u001b[39;00m image_path:\n",
      "\u001b[1;31mTypeError\u001b[0m: list indices must be integers or slices, not str"
     ]
    }
   ],
   "source": [
    "if __name__ == '__main__':\n",
    "    json_directory = r'C:\\Users\\hamza\\Downloads\\test part 2\\files'\n",
    "    labeled_output_directory = r'C:\\Users\\hamza\\Downloads\\full imeges\\used images'\n",
    "    cut_output_directory = r'C:\\Users\\hamza\\Downloads\\full imeges\\cutted images'\n",
    "\n",
    "    for filename in os.listdir(json_directory):\n",
    "        if filename.endswith('.json'):\n",
    "            json_file_path = os.path.join(json_directory, filename)\n",
    "            json_data = load_labelme_json(json_file_path)\n",
    "            image_url = json_data['imagePath']\n",
    "            image_path = download_image(image_url, json_file_path, labeled_output_directory)\n",
    "\n",
    "            if image_path:\n",
    "                image = cv2.imread(image_path)\n",
    "                extract_and_save_labeled_regions(json_data, image, cut_output_directory)\n",
    "\n",
    "            print(f\"Processed: {filename}\")\n",
    "\n",
    "    print(\"Processing completed for all JSON files.\")"
   ]
  },
  {
   "cell_type": "code",
   "execution_count": null,
   "id": "987e7797-b103-4ee9-9314-20b77e4a8419",
   "metadata": {},
   "outputs": [],
   "source": []
  },
  {
   "cell_type": "code",
   "execution_count": null,
   "id": "5d39a93a-f1fc-45ab-9537-e5d92ca22d76",
   "metadata": {},
   "outputs": [],
   "source": []
  },
  {
   "cell_type": "code",
   "execution_count": null,
   "id": "1b097bf4-350f-4c02-85ca-dc2765ce4f8a",
   "metadata": {},
   "outputs": [],
   "source": []
  }
 ],
 "metadata": {
  "kernelspec": {
   "display_name": "Python 3 (ipykernel)",
   "language": "python",
   "name": "python3"
  },
  "language_info": {
   "codemirror_mode": {
    "name": "ipython",
    "version": 3
   },
   "file_extension": ".py",
   "mimetype": "text/x-python",
   "name": "python",
   "nbconvert_exporter": "python",
   "pygments_lexer": "ipython3",
   "version": "3.8.0"
  }
 },
 "nbformat": 4,
 "nbformat_minor": 5
}
