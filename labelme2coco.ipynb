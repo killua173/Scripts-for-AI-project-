{
 "cells": [
  {
   "cell_type": "code",
   "execution_count": 15,
   "id": "445cbb3e-8140-41f2-9038-4721eaaf3b27",
   "metadata": {},
   "outputs": [
    {
     "name": "stdout",
     "output_type": "stream",
     "text": [
      "Conversion completed.\n"
     ]
    }
   ],
   "source": [
    "import json\n",
    "import os\n",
    "\n",
    "def labelme_to_coco(labelme_data):\n",
    "    coco_data = {\n",
    "        \"image\": labelme_data[\"imagePath\"].split(\"\\\\\")[-1],\n",
    "        \"annotations\": []\n",
    "    }\n",
    "\n",
    "    for shape in labelme_data[\"shapes\"]:\n",
    "        label = shape[\"label\"]\n",
    "        points = shape[\"points\"]\n",
    "\n",
    "        x_min = min(points[0][0], points[1][0])\n",
    "        y_min = min(points[0][1], points[1][1])\n",
    "        width = abs(points[0][0] - points[1][0])\n",
    "        height = abs(points[0][1] - points[1][1])\n",
    "\n",
    "        annotation = {\n",
    "            \"label\": f\"{0}\",\n",
    "            \"coordinates\": {\n",
    "                \"x\": x_min + width / 2,\n",
    "                \"y\": y_min + height / 2,\n",
    "                \"width\": width,\n",
    "                \"height\": height\n",
    "            }\n",
    "        }\n",
    "\n",
    "        coco_data[\"annotations\"].append(annotation)\n",
    "\n",
    "    return [coco_data]\n",
    "\n",
    "def labelme_to_coco_file(input_json_path, output_json_path):\n",
    "    with open(input_json_path, \"r\") as f:\n",
    "        labelme_data = json.load(f)\n",
    "\n",
    "    coco_data = labelme_to_coco(labelme_data)\n",
    "\n",
    "    with open(output_json_path, \"w\") as f:\n",
    "        json.dump(coco_data, f)\n",
    "\n",
    "# Specify the directory containing LabelMe JSON files\n",
    "labelme_dir = r\"C:\\Users\\hamza\\Downloads\\full imeges\\img and json\\json\"\n",
    "\n",
    "# Specify the directory to save COCO JSON files\n",
    "coco_dir = r\"C:\\Users\\hamza\\Downloads\\full imeges\\COCO\"\n",
    "\n",
    "# Create COCO directory if it doesn't exist\n",
    "os.makedirs(coco_dir, exist_ok=True)\n",
    "\n",
    "# Convert each LabelMe JSON file to COCO format\n",
    "for json_file in os.listdir(labelme_dir):\n",
    "    if json_file.endswith(\".json\"):\n",
    "        labelme_path = os.path.join(labelme_dir, json_file)\n",
    "        coco_path = os.path.join(coco_dir, json_file.replace(\".json\", \".json\"))\n",
    "        labelme_to_coco_file(labelme_path, coco_path)\n",
    "\n",
    "print(\"Conversion completed.\")\n"
   ]
  },
  {
   "cell_type": "code",
   "execution_count": null,
   "id": "c602729d-7f12-45f6-bbc3-a5144afff658",
   "metadata": {},
   "outputs": [],
   "source": []
  }
 ],
 "metadata": {
  "kernelspec": {
   "display_name": "Python 3 (ipykernel)",
   "language": "python",
   "name": "python3"
  },
  "language_info": {
   "codemirror_mode": {
    "name": "ipython",
    "version": 3
   },
   "file_extension": ".py",
   "mimetype": "text/x-python",
   "name": "python",
   "nbconvert_exporter": "python",
   "pygments_lexer": "ipython3",
   "version": "3.8.0"
  }
 },
 "nbformat": 4,
 "nbformat_minor": 5
}
