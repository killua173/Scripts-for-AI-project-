{
 "cells": [
  {
   "cell_type": "code",
   "execution_count": 6,
   "id": "1ecc7784-7b55-49fa-9cfd-7f586e18e984",
   "metadata": {},
   "outputs": [
    {
     "name": "stdout",
     "output_type": "stream",
     "text": [
      "Data has been saved to output.xlsx\n"
     ]
    }
   ],
   "source": [
    "import os\n",
    "import xml.etree.ElementTree as ET\n",
    "import pandas as pd\n",
    "\n",
    "def extract_date(xml_file):\n",
    "    tree = ET.parse(xml_file)\n",
    "    root = tree.getroot()\n",
    "\n",
    "    date1 = None\n",
    "\n",
    "    for obj in root.findall(\".//object\"):\n",
    "        name = obj.find(\"name\").text\n",
    "\n",
    "        if \"@\" in name:\n",
    "            id_parts = name.split(\"@\")\n",
    "            if \"*\" in id_parts[1]:\n",
    "                date1 = id_parts[1].replace(\"*\", \"\")  # Remove \"*\"\n",
    "            else:\n",
    "                date1 = id_parts[1]\n",
    "\n",
    "    return date1\n",
    "\n",
    "def process_xml(xml_file, date1):\n",
    "    tree = ET.parse(xml_file)\n",
    "    root = tree.getroot()\n",
    "\n",
    "    data = []\n",
    "\n",
    "    for obj in root.findall(\".//object\"):\n",
    "        name = obj.find(\"name\").text\n",
    "\n",
    "        id_ = None\n",
    "        maturity = 0\n",
    "\n",
    "        if \"@\" in name:\n",
    "            id_parts = name.split(\"@\")\n",
    "            id_ = id_parts[0]\n",
    "\n",
    "            if \"*\" in id_:\n",
    "                maturity = 1\n",
    "                id_ = id_.replace(\"*\", \"\")\n",
    "\n",
    "        else:\n",
    "            id_ = name\n",
    "            if \"*\" in id_:\n",
    "                id_ = id_.replace(\"*\", \"\")\n",
    "                maturity = 1\n",
    "\n",
    "        width = int(obj.find(\"bndbox/xmax\").text) - int(obj.find(\"bndbox/xmin\").text)\n",
    "        height = int(obj.find(\"bndbox/ymax\").text) - int(obj.find(\"bndbox/ymin\").text)\n",
    "\n",
    "        data.append([id_, width, height, date1, maturity])\n",
    "\n",
    "    return data\n",
    "\n",
    "all_data = []\n",
    "\n",
    "folder_path = r\"C:\\Users\\hamza\\Downloads\\test part 2\\files\"\n",
    "\n",
    "for filename in os.listdir(folder_path):\n",
    "    if filename.endswith(\".xml\"):\n",
    "        xml_file_path = os.path.join(folder_path, filename)\n",
    "        date1 = extract_date(xml_file_path)\n",
    "        data = process_xml(xml_file_path, date1)\n",
    "        all_data.extend(data)\n",
    "\n",
    "columns = [\"id\", \"width\", \"height\", \"date\", \"maturity\"]\n",
    "df = pd.DataFrame(all_data, columns=columns)\n",
    "\n",
    "excel_file_path = \"output.xlsx\"\n",
    "df.to_excel(excel_file_path, index=False)\n",
    "\n",
    "print(f\"Data has been saved to {excel_file_path}\")\n"
   ]
  },
  {
   "cell_type": "code",
   "execution_count": null,
   "id": "f4e1c374-3582-4ded-a555-dab46564a480",
   "metadata": {},
   "outputs": [],
   "source": []
  },
  {
   "cell_type": "code",
   "execution_count": null,
   "id": "8b25a256-b2df-4543-82d7-17b3031f615e",
   "metadata": {},
   "outputs": [],
   "source": []
  }
 ],
 "metadata": {
  "kernelspec": {
   "display_name": "Python 3 (ipykernel)",
   "language": "python",
   "name": "python3"
  },
  "language_info": {
   "codemirror_mode": {
    "name": "ipython",
    "version": 3
   },
   "file_extension": ".py",
   "mimetype": "text/x-python",
   "name": "python",
   "nbconvert_exporter": "python",
   "pygments_lexer": "ipython3",
   "version": "3.8.0"
  }
 },
 "nbformat": 4,
 "nbformat_minor": 5
}
